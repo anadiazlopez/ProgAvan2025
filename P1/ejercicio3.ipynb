{
 "cells": [
  {
   "cell_type": "code",
   "execution_count": 100,
   "id": "99792ff0",
   "metadata": {},
   "outputs": [
    {
     "name": "stdout",
     "output_type": "stream",
     "text": [
      "1.   La suma de los numeros de la lista es de 2\n",
      "2.   La suma de los numeros positivos de la lista es de 11\n",
      "3.   La suma de los numeros negativos de la lista es de -9\n",
      "4.   Numero que se repiten mas de una vez: -1 -2 5 \n",
      "5.   En la lista hay mas numeros negativos que positivos.\n"
     ]
    }
   ],
   "source": [
    "lista = [-1, -2, -3, -2, 5, 5, -1, 1]\n",
    "\n",
    "#APARTADO 1\n",
    "print(\"1.   La suma de los numeros de la lista es de\", sum(lista))\n",
    "\n",
    "#APARTADO 2\n",
    "suma = 0\n",
    "for numero in lista:\n",
    "    if numero > 0:\n",
    "        suma = suma + numero\n",
    "print(\"2.   La suma de los numeros positivos de la lista es de\", suma)\n",
    "\n",
    "#APARTADO 3\n",
    "suma = 0\n",
    "for numero in lista:\n",
    "    if numero < 0:\n",
    "        suma = suma + numero\n",
    "print(\"3.   La suma de los numeros negativos de la lista es de\", suma)\n",
    "\n",
    "#APARTADO 4\n",
    "print(\"4.   Numero que se repiten mas de una vez:\", end= \" \")\n",
    "anadidos = set()\n",
    "for numero in lista:\n",
    "    if lista.count(numero) > 1 and numero not in anadidos:\n",
    "        print(numero, end= \" \")\n",
    "        anadidos.add(numero)\n",
    "\n",
    "#APARTADO 5\n",
    "contpos = 0\n",
    "contneg = 0\n",
    "for numero in lista:\n",
    "    if numero >= 0:\n",
    "        contpos += 1\n",
    "    else:\n",
    "        contneg += 1\n",
    "if contpos > contneg:\n",
    "    print(\"\\n5.   En la lista hay mas numeros positivos que negativos.\")\n",
    "else:\n",
    "    print(\"\\n5.   En la lista hay mas numeros negativos que positivos.\")\n",
    "\n",
    "\n",
    "    \n",
    "\n",
    "\n",
    "\n",
    "\n",
    "\n",
    "\n"
   ]
  }
 ],
 "metadata": {
  "kernelspec": {
   "display_name": "Python 3",
   "language": "python",
   "name": "python3"
  },
  "language_info": {
   "codemirror_mode": {
    "name": "ipython",
    "version": 3
   },
   "file_extension": ".py",
   "mimetype": "text/x-python",
   "name": "python",
   "nbconvert_exporter": "python",
   "pygments_lexer": "ipython3",
   "version": "3.11.9"
  }
 },
 "nbformat": 4,
 "nbformat_minor": 5
}
