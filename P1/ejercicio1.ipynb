{
 "cells": [
  {
   "cell_type": "code",
   "execution_count": null,
   "id": "8bf9d996",
   "metadata": {},
   "outputs": [
    {
     "ename": "SyntaxError",
     "evalue": "expected ':' (2749124649.py, line 1)",
     "output_type": "error",
     "traceback": [
      "  \u001b[36mCell\u001b[39m\u001b[36m \u001b[39m\u001b[32mIn[1]\u001b[39m\u001b[32m, line 1\u001b[39m\n\u001b[31m    \u001b[39m\u001b[31mdef process_text()\u001b[39m\n                      ^\n\u001b[31mSyntaxError\u001b[39m\u001b[31m:\u001b[39m expected ':'\n"
     ]
    }
   ],
   "source": [
    "def process_text(sentece: str, word: list[str]):\n",
    "    \n",
    "     for palabra in palabras:\n",
    "        text = sentece.replace(palabra, '*' * len(palabra))\n",
    "    return text\n",
    "\n",
    "    frase = \"Hola, mi nombre es Ana y tengo 21 años.\\n\"\n",
    "    palabra = [\"Ana\", \"21\"]\n",
    "    frasefin= process_text.replace(frase, palabra)\n",
    "    print(frasefin)"
   ]
  }
 ],
 "metadata": {
  "kernelspec": {
   "display_name": "Python 3",
   "language": "python",
   "name": "python3"
  },
  "language_info": {
   "codemirror_mode": {
    "name": "ipython",
    "version": 3
   },
   "file_extension": ".py",
   "mimetype": "text/x-python",
   "name": "python",
   "nbconvert_exporter": "python",
   "pygments_lexer": "ipython3",
   "version": "3.11.9"
  }
 },
 "nbformat": 4,
 "nbformat_minor": 5
}
