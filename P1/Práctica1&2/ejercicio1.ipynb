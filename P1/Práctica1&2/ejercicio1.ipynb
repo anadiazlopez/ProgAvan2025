{
 "cells": [
  {
   "cell_type": "code",
   "execution_count": 4,
   "id": "8bf9d996",
   "metadata": {},
   "outputs": [
    {
     "name": "stdout",
     "output_type": "stream",
     "text": [
      "Texto procesado: Hola, mi nombre es *** y tengo ** años.\n",
      "\n",
      "Palabras reemplazadas: 2\n"
     ]
    }
   ],
   "source": [
    "\n",
    "def procesar_texto(frase: str, palabras: list[str]):\n",
    "    frase # Convertimos la frase a minúsculas\n",
    "    for palabra in palabras:\n",
    "        frase = frase.replace(palabra, '*' * len(palabra))\n",
    "    return frase\n",
    "\n",
    "\n",
    "def contar(frase: str, palabras: list[str]):\n",
    "    contador = 0\n",
    "    for palabra in palabras:\n",
    "        if palabra in frase.split():\n",
    "            contador += 1\n",
    "    return contador\n",
    "\n",
    "\n",
    "\n",
    "frase = \"Hola, mi nombre es Ana y tengo 21 años.\\n\"\n",
    "palabras = [\"Ana\", \"21\"]\n",
    "\n",
    "frase_final = procesar_texto(frase, palabras)  # Procesamos texto\n",
    "contador = contar(frase, palabras)             # Contamos reemplazos\n",
    "\n",
    "print(\"Texto procesado:\", frase_final)\n",
    "print(\"Palabras reemplazadas:\", contador)\n",
    "\n"
   ]
  }
 ],
 "metadata": {
  "kernelspec": {
   "display_name": "Python 3",
   "language": "python",
   "name": "python3"
  },
  "language_info": {
   "codemirror_mode": {
    "name": "ipython",
    "version": 3
   },
   "file_extension": ".py",
   "mimetype": "text/x-python",
   "name": "python",
   "nbconvert_exporter": "python",
   "pygments_lexer": "ipython3",
   "version": "3.11.9"
  }
 },
 "nbformat": 4,
 "nbformat_minor": 5
}
