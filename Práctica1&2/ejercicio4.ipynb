{
 "cells": [
  {
   "cell_type": "code",
   "execution_count": 1,
   "id": "0a911c00",
   "metadata": {},
   "outputs": [
    {
     "name": "stdout",
     "output_type": "stream",
     "text": [
      "1.  Lista de tareas:\n",
      "        - Cocinar\n",
      "        - Estudiar\n",
      "        - Comprar comida\n",
      "        - Hacer deporte\n",
      "        - Limpiar\n",
      "Tarea 'Limpiar' agregada.\n",
      "\n",
      "2.  Lista de tareas:\n",
      "        - Cocinar\n",
      "        - Comprar comida\n",
      "        - Hacer deporte\n",
      "        - Limpiar\n",
      "Tarea 'Estudiar' eliminada.\n",
      "\n",
      "3.  Lista de tareas enumerada:\n",
      "        1- Cocinar\n",
      "        2- Comprar comida\n",
      "        3- Hacer deporte\n",
      "        4- Limpiar\n",
      "\n",
      "4.  Lista de tareas enumerada:\n",
      "        1- Pintar\n",
      "        2- Comprar comida\n",
      "        3- Hacer deporte\n",
      "        4- Limpiar\n",
      "Primera tarea modificada a: 'Pintar'\n"
     ]
    }
   ],
   "source": [
    "tareas=[\"Cocinar\", \"Estudiar\", \"Comprar comida\", \"Hacer deporte\"]\n",
    "\n",
    "#FUNCIONES\n",
    "def add_task(task):\n",
    "    tareas.append(task)\n",
    "    print(\"1.  Lista de tareas:\")\n",
    "    for task in tareas:\n",
    "        print(f\"        - {task}\")\n",
    "    print(f\"Tarea '{task}' agregada.\")\n",
    "\n",
    "def remove_task(task):\n",
    "    eliminada = task\n",
    "    if task in tareas:\n",
    "        tareas.remove(task)\n",
    "        print(\"\\n2.  Lista de tareas:\")\n",
    "        for task in tareas:\n",
    "            print(f\"        - {task}\")\n",
    "        print(f\"Tarea '{eliminada}' eliminada.\")\n",
    "    else:\n",
    "        print(\"\\n2.  NO EXISTE TAREA\")\n",
    "    \n",
    "def list_tasks():\n",
    "    i = 1\n",
    "    for task in tareas:\n",
    "        print(f\"        {i}- {task}\")\n",
    "        i += 1\n",
    "\n",
    "def modify_task():\n",
    "    if tareas:\n",
    "        tarea_modificada = input(\"Modifica la primera tarea: \")\n",
    "        tareas[0] = tarea_modificada.capitalize()\n",
    "        print(\"\\n4.  Lista de tareas enumerada:\")\n",
    "        list_tasks()\n",
    "        print(f\"Primera tarea modificada a: '{tareas[0]}'\")\n",
    "    else:\n",
    "        print(\"No hay tareas para modificar.\")\n",
    "\n",
    "def task_manager():\n",
    "    tarea_nueva = str(input(\"Introduce tarea:\" ))\n",
    "    add_task(tarea_nueva.capitalize())\n",
    "\n",
    "    borrar_tarea = str(input(\"Elimina tarea:\" ))\n",
    "    remove_task(borrar_tarea.capitalize())\n",
    "    print(\"\\n3.  Lista de tareas enumerada:\")\n",
    "    list_tasks()\n",
    "    modify_task()\n",
    "\n",
    "    \n",
    "task_manager()\n",
    "\n"
   ]
  }
 ],
 "metadata": {
  "kernelspec": {
   "display_name": "Python 3",
   "language": "python",
   "name": "python3"
  },
  "language_info": {
   "codemirror_mode": {
    "name": "ipython",
    "version": 3
   },
   "file_extension": ".py",
   "mimetype": "text/x-python",
   "name": "python",
   "nbconvert_exporter": "python",
   "pygments_lexer": "ipython3",
   "version": "3.11.9"
  }
 },
 "nbformat": 4,
 "nbformat_minor": 5
}
